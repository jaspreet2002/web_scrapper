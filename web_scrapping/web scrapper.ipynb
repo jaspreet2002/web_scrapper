{
 "cells": [
  {
   "cell_type": "code",
   "execution_count": 1,
   "id": "811e8eff-3091-44fb-920f-7372cdc9333c",
   "metadata": {},
   "outputs": [],
   "source": [
    "#importing required libraries\n",
    "import requests\n",
    "from bs4 import BeautifulSoup as bs\n",
    "from urllib.request import urlopen\n",
    "import logging"
   ]
  },
  {
   "cell_type": "code",
   "execution_count": 2,
   "id": "4238e01e-a479-4081-8cde-e1d71304671b",
   "metadata": {},
   "outputs": [],
   "source": [
    "flipcart_url = \"https://www.flipkart.com/search?q=\" + \"tv\""
   ]
  },
  {
   "cell_type": "code",
   "execution_count": 3,
   "id": "453b19d4-d454-483b-8e0b-cfd4ba2262c2",
   "metadata": {},
   "outputs": [
    {
     "data": {
      "text/plain": [
       "'https://www.flipkart.com/search?q=tv'"
      ]
     },
     "execution_count": 3,
     "metadata": {},
     "output_type": "execute_result"
    }
   ],
   "source": [
    "flipcart_url"
   ]
  },
  {
   "cell_type": "code",
   "execution_count": 4,
   "id": "cdeed42d-3b6d-47b1-980b-59ee8d715e05",
   "metadata": {},
   "outputs": [],
   "source": [
    "#urlopen help to open the url\n",
    "urlclient = urlopen(flipcart_url)"
   ]
  },
  {
   "cell_type": "code",
   "execution_count": 5,
   "id": "2e1c9fc0-1e8e-4e02-9dc7-a9d796fe3947",
   "metadata": {},
   "outputs": [],
   "source": [
    "#reading the html page using url\n",
    "flipcart_page = urlclient.read()"
   ]
  },
  {
   "cell_type": "code",
   "execution_count": 6,
   "id": "7051e647-b8e1-4a97-a8d0-8f8b9975191f",
   "metadata": {},
   "outputs": [],
   "source": [
    "#beautifying the html page to make it more readable\n",
    "flipcart_html = bs(flipcart_page , 'html.parser')"
   ]
  },
  {
   "cell_type": "code",
   "execution_count": 7,
   "id": "941157fd-b672-49e1-a745-ec2c65a35881",
   "metadata": {},
   "outputs": [
    {
     "data": {
      "text/plain": [
       "'https://www.flipkart.com/dyanora-sigma-108-cm-43-inch-full-hd-led-smart-linux-tv-40-watt-box-speakers-bezel-less-design/p/itmcdbced04b2319?pid=TVSGHZAGFYKGZQ8K&lid=LSTTVSGHZAGFYKGZQ8KUAM8H1&marketplace=FLIPKART&q=tv&store=ckf%2Fczl&srno=s_1_1&otracker=search&otracker1=search&fm=organic&iid=en_xF8tH%2FD493QWU9p74CMkRhAnl%2FZDSt2g4RX8asyXf547oHm6aKW0Vwig1Ae%2FF%2BxpMab4jOA70lzjnpWCWaM8Dw%3D%3D&ppt=sp&ppn=sp&ssid=6vokrwan280000001676982936780&qH=c9a1fdac6e082dd8'"
      ]
     },
     "execution_count": 7,
     "metadata": {},
     "output_type": "execute_result"
    }
   ],
   "source": [
    "\"https://www.flipkart.com\"+\"/dyanora-sigma-108-cm-43-inch-full-hd-led-smart-linux-tv-40-watt-box-speakers-bezel-less-design/p/itmcdbced04b2319?pid=TVSGHZAGFYKGZQ8K&lid=LSTTVSGHZAGFYKGZQ8KUAM8H1&marketplace=FLIPKART&q=tv&store=ckf%2Fczl&srno=s_1_1&otracker=search&otracker1=search&fm=organic&iid=en_xF8tH%2FD493QWU9p74CMkRhAnl%2FZDSt2g4RX8asyXf547oHm6aKW0Vwig1Ae%2FF%2BxpMab4jOA70lzjnpWCWaM8Dw%3D%3D&ppt=sp&ppn=sp&ssid=6vokrwan280000001676982936780&qH=c9a1fdac6e082dd8\""
   ]
  },
  {
   "cell_type": "code",
   "execution_count": 9,
   "id": "4b979d12-4f74-4777-b5b3-c48d254a3f93",
   "metadata": {},
   "outputs": [],
   "source": [
    "#fetching the dev classes from the html page\n",
    "#bigbox is dev class\n",
    "bigbox = flipcart_html.find_all(\"div\" ,{\"class\":\"_1AtVbE col-12-12\"} )"
   ]
  },
  {
   "cell_type": "code",
   "execution_count": 10,
   "id": "1c696ac3-ad68-4ebe-a523-e5709d3601cc",
   "metadata": {},
   "outputs": [
    {
     "data": {
      "text/plain": [
       "30"
      ]
     },
     "execution_count": 10,
     "metadata": {},
     "output_type": "execute_result"
    }
   ],
   "source": [
    "len(bigbox)"
   ]
  },
  {
   "cell_type": "code",
   "execution_count": 11,
   "id": "814dac9a-ecab-41be-9ace-a765e893b886",
   "metadata": {},
   "outputs": [],
   "source": [
    "del bigbox[0:3]"
   ]
  },
  {
   "cell_type": "code",
   "execution_count": 12,
   "id": "cbf4c815-94f9-499e-a6e3-b84a8e07ea8a",
   "metadata": {},
   "outputs": [],
   "source": [
    "#getting the product link from the bigbox\n",
    "productlink = \"https://www.flipkart.com\" + bigbox[0].div.div.div.a['href']"
   ]
  },
  {
   "cell_type": "code",
   "execution_count": 13,
   "id": "317673bb-67f5-48e6-81a4-a9d6f77e10c8",
   "metadata": {},
   "outputs": [
    {
     "name": "stdout",
     "output_type": "stream",
     "text": [
      "https://www.flipkart.com/oneplus-y1s-80-cm-32-inch-hd-ready-led-smart-android-tv-11-bezel-less-frame/p/itm0a39edd7df236?pid=TVSGAXEVXNG9YBUM&lid=LSTTVSGAXEVXNG9YBUMLGWYAS&marketplace=FLIPKART&q=tv&store=ckf%2Fczl&srno=s_1_2&otracker=search&fm=organic&iid=6332b9ec-d625-4e05-aa06-09f8dd69ae4e.TVSGAXEVXNG9YBUM.SEARCH&ppt=None&ppn=None&ssid=ib3sso3vuo0000001677174442141&qH=c9a1fdac6e082dd8\n",
      "https://www.flipkart.com/oneplus-y1s-108-cm-43-inch-full-hd-led-smart-android-tv-11-bezel-less-frame/p/itm178846d2e1567?pid=TVSGAXEVSNT3HBQA&lid=LSTTVSGAXEVSNT3HBQAKRCYE0&marketplace=FLIPKART&q=tv&store=ckf%2Fczl&srno=s_1_3&otracker=search&fm=organic&iid=6332b9ec-d625-4e05-aa06-09f8dd69ae4e.TVSGAXEVSNT3HBQA.SEARCH&ppt=None&ppn=None&ssid=ib3sso3vuo0000001677174442141&qH=c9a1fdac6e082dd8\n",
      "https://www.flipkart.com/oneplus-y1-100-cm-40-inch-full-hd-led-smart-android-tv-dolby-audio/p/itmdcbd9784403b2?pid=TVSG25MMGB8NKFD8&lid=LSTTVSG25MMGB8NKFD8BZ88HR&marketplace=FLIPKART&q=tv&store=ckf%2Fczl&srno=s_1_4&otracker=search&fm=organic&iid=6332b9ec-d625-4e05-aa06-09f8dd69ae4e.TVSG25MMGB8NKFD8.SEARCH&ppt=None&ppn=None&ssid=ib3sso3vuo0000001677174442141&qH=c9a1fdac6e082dd8\n",
      "https://www.flipkart.com/mi-5a-80-cm-32-inch-hd-ready-led-smart-android-tv-dolby-audio-2022-model/p/itm98501ffa297ba?pid=TVSGD5CS2SDUUZGN&lid=LSTTVSGD5CS2SDUUZGNWGZUUA&marketplace=FLIPKART&q=tv&store=ckf%2Fczl&srno=s_1_5&otracker=search&fm=organic&iid=6332b9ec-d625-4e05-aa06-09f8dd69ae4e.TVSGD5CS2SDUUZGN.SEARCH&ppt=None&ppn=None&ssid=ib3sso3vuo0000001677174442141&qH=c9a1fdac6e082dd8\n",
      "https://www.flipkart.com/samsung-crystal-4k-108-cm-43-inch-ultra-hd-4k-led-smart-tizen-tv/p/itm7dcfb3cc69fbb?pid=TVSG2CG7F2Y9YUJ3&lid=LSTTVSG2CG7F2Y9YUJ39FS3ZI&marketplace=FLIPKART&q=tv&store=ckf%2Fczl&srno=s_1_6&otracker=search&fm=organic&iid=6332b9ec-d625-4e05-aa06-09f8dd69ae4e.TVSG2CG7F2Y9YUJ3.SEARCH&ppt=None&ppn=None&ssid=ib3sso3vuo0000001677174442141&qH=c9a1fdac6e082dd8\n",
      "https://www.flipkart.com/samsung-80-cm-32-inch-hd-ready-led-smart-tizen-tv-2022-model/p/itm3c07ddc2dd25d?pid=TVSGHY2UZA9YHWQN&lid=LSTTVSGHY2UZA9YHWQNNQENTU&marketplace=FLIPKART&q=tv&store=ckf%2Fczl&spotlightTagId=BestsellerId_ckf%2Fczl&srno=s_1_7&otracker=search&fm=organic&iid=6332b9ec-d625-4e05-aa06-09f8dd69ae4e.TVSGHY2UZA9YHWQN.SEARCH&ppt=None&ppn=None&ssid=ib3sso3vuo0000001677174442141&qH=c9a1fdac6e082dd8\n",
      "https://www.flipkart.com/mi-5a-100-cm-40-inch-full-hd-led-smart-android-tv-dolby-audio-2022-model/p/itm6be60be56f52d?pid=TVSGD5CS4N7NWFZD&lid=LSTTVSGD5CS4N7NWFZDDJBZRI&marketplace=FLIPKART&q=tv&store=ckf%2Fczl&srno=s_1_8&otracker=search&fm=organic&iid=6332b9ec-d625-4e05-aa06-09f8dd69ae4e.TVSGD5CS4N7NWFZD.SEARCH&ppt=None&ppn=None&ssid=ib3sso3vuo0000001677174442141&qH=c9a1fdac6e082dd8\n",
      "https://www.flipkart.com/thomson-alpha-80-cm-32-inch-hd-ready-led-smart-linux-tv-30-w-sound-output-bezel-less-design/p/itm0e90bcdadb9c9?pid=TVSGEMQV7R4CMTGA&lid=LSTTVSGEMQV7R4CMTGAN8OZ8J&marketplace=FLIPKART&q=tv&store=ckf%2Fczl&srno=s_1_9&otracker=search&fm=organic&iid=6332b9ec-d625-4e05-aa06-09f8dd69ae4e.TVSGEMQV7R4CMTGA.SEARCH&ppt=None&ppn=None&ssid=ib3sso3vuo0000001677174442141&qH=c9a1fdac6e082dd8\n",
      "https://www.flipkart.com/infinix-y1-80-cm-32-inch-hd-ready-led-smart-linux-tv-wall-mount/p/itme5476ca89d1b0?pid=TVSGFGF34GMTB9KF&lid=LSTTVSGFGF34GMTB9KFF9JZPY&marketplace=FLIPKART&q=tv&store=ckf%2Fczl&srno=s_1_10&otracker=search&fm=organic&iid=6332b9ec-d625-4e05-aa06-09f8dd69ae4e.TVSGFGF34GMTB9KF.SEARCH&ppt=None&ppn=None&ssid=ib3sso3vuo0000001677174442141&qH=c9a1fdac6e082dd8\n",
      "https://www.flipkart.com/samsung-crystal-4k-neo-series-108-cm-43-inch-ultra-hd-4k-led-smart-tizen-tv-black-2022-model/p/itma076c4dd16aa4?pid=TVSGEAGP9GXWCHCX&lid=LSTTVSGEAGP9GXWCHCXSVNDV5&marketplace=FLIPKART&q=tv&store=ckf%2Fczl&srno=s_1_11&otracker=search&fm=organic&iid=6332b9ec-d625-4e05-aa06-09f8dd69ae4e.TVSGEAGP9GXWCHCX.SEARCH&ppt=None&ppn=None&ssid=ib3sso3vuo0000001677174442141&qH=c9a1fdac6e082dd8\n",
      "https://www.flipkart.com/mi-5a-108-cm-43-inch-full-hd-led-smart-android-tv-dolby-audio-2022-model/p/itm2d5967449cb9b?pid=TVSGD5CS3CXNF2DF&lid=LSTTVSGD5CS3CXNF2DFPJ6HSF&marketplace=FLIPKART&q=tv&store=ckf%2Fczl&srno=s_1_12&otracker=search&fm=organic&iid=6332b9ec-d625-4e05-aa06-09f8dd69ae4e.TVSGD5CS3CXNF2DF.SEARCH&ppt=None&ppn=None&ssid=ib3sso3vuo0000001677174442141&qH=c9a1fdac6e082dd8\n",
      "https://www.flipkart.com/lg-80-cm-32-inch-hd-ready-led-smart-webos-tv/p/itm6207e6d122567?pid=TVSFTW4CSRW8PGDQ&lid=LSTTVSFTW4CSRW8PGDQSZQIO6&marketplace=FLIPKART&q=tv&store=ckf%2Fczl&srno=s_1_13&otracker=search&fm=organic&iid=6332b9ec-d625-4e05-aa06-09f8dd69ae4e.TVSFTW4CSRW8PGDQ.SEARCH&ppt=None&ppn=None&ssid=ib3sso3vuo0000001677174442141&qH=c9a1fdac6e082dd8\n",
      "https://www.flipkart.com/iffalcon-tcl-f53-79-97-cm-32-inch-hd-ready-led-smart-android-tv-11/p/itmf4e9c6c14ccb0?pid=TVSGCYVJPAJMHGUW&lid=LSTTVSGCYVJPAJMHGUWTE92JA&marketplace=FLIPKART&q=tv&store=ckf%2Fczl&srno=s_1_14&otracker=search&fm=organic&iid=6332b9ec-d625-4e05-aa06-09f8dd69ae4e.TVSGCYVJPAJMHGUW.SEARCH&ppt=None&ppn=None&ssid=ib3sso3vuo0000001677174442141&qH=c9a1fdac6e082dd8\n",
      "https://www.flipkart.com/lg-uq7500-108-cm-43-inch-ultra-hd-4k-led-smart-webos-tv-2022/p/itm39fd5782b27ed?pid=TVSGFGYS5TJRUJNV&lid=LSTTVSGFGYS5TJRUJNVLCTYNB&marketplace=FLIPKART&q=tv&store=ckf%2Fczl&srno=s_1_15&otracker=search&fm=organic&iid=6332b9ec-d625-4e05-aa06-09f8dd69ae4e.TVSGFGYS5TJRUJNV.SEARCH&ppt=None&ppn=None&ssid=ib3sso3vuo0000001677174442141&qH=c9a1fdac6e082dd8\n",
      "https://www.flipkart.com/beethosol-80-cm-32-inch-hd-ready-led-smart-android-tv/p/itm8d2b1963a203d?pid=TVSGG79MJVM6CEZV&lid=LSTTVSGG79MJVM6CEZV0GKW4Y&marketplace=FLIPKART&q=tv&store=ckf%2Fczl&srno=s_1_16&otracker=search&fm=organic&iid=6332b9ec-d625-4e05-aa06-09f8dd69ae4e.TVSGG79MJVM6CEZV.SEARCH&ppt=None&ppn=None&ssid=ib3sso3vuo0000001677174442141&qH=c9a1fdac6e082dd8\n",
      "https://www.flipkart.com/sens-80-cm-32-inch-hd-ready-led-smart-android-tv-dolby-audio-google-assistant/p/itm9340589d4f56d?pid=TVSGHY2BHWNJ7JHG&lid=LSTTVSGHY2BHWNJ7JHGUP5PRP&marketplace=FLIPKART&q=tv&store=ckf%2Fczl&srno=s_1_17&otracker=search&fm=organic&iid=6332b9ec-d625-4e05-aa06-09f8dd69ae4e.TVSGHY2BHWNJ7JHG.SEARCH&ppt=None&ppn=None&ssid=ib3sso3vuo0000001677174442141&qH=c9a1fdac6e082dd8\n",
      "https://www.flipkart.com/beethosol-80-cm-32-inch-hd-ready-led-tv/p/itmbc44ca58989cf?pid=TVSGG79MDS8CXWGD&lid=LSTTVSGG79MDS8CXWGD8P6NUB&marketplace=FLIPKART&q=tv&store=ckf%2Fczl&srno=s_1_18&otracker=search&fm=organic&iid=6332b9ec-d625-4e05-aa06-09f8dd69ae4e.TVSGG79MDS8CXWGD.SEARCH&ppt=None&ppn=None&ssid=ib3sso3vuo0000001677174442141&qH=c9a1fdac6e082dd8\n",
      "https://www.flipkart.com/mi-x-series-108-cm-43-inch-ultra-hd-4k-led-smart-android-tv-dolby-vision-30w-audio-2022-model/p/itm39b39b602f81a?pid=TVSGHEQVGZVTSEBT&lid=LSTTVSGHEQVGZVTSEBT6BSNVA&marketplace=FLIPKART&q=tv&store=ckf%2Fczl&srno=s_1_19&otracker=search&fm=organic&iid=6332b9ec-d625-4e05-aa06-09f8dd69ae4e.TVSGHEQVGZVTSEBT.SEARCH&ppt=None&ppn=None&ssid=ib3sso3vuo0000001677174442141&qH=c9a1fdac6e082dd8\n",
      "https://www.flipkart.com/vu-gloled-108-cm-43-inch-ultra-hd-4k-led-smart-google-tv-dj-subwoofer-84w/p/itm65f2925757d94?pid=TVSGJKC9TUSZ2DHS&lid=LSTTVSGJKC9TUSZ2DHSYRCHBF&marketplace=FLIPKART&q=tv&store=ckf%2Fczl&srno=s_1_20&otracker=search&fm=organic&iid=6332b9ec-d625-4e05-aa06-09f8dd69ae4e.TVSGJKC9TUSZ2DHS.SEARCH&ppt=None&ppn=None&ssid=ib3sso3vuo0000001677174442141&qH=c9a1fdac6e082dd8\n",
      "https://www.flipkart.com/sens-80-cm-32-inch-hd-ready-led-smart-linux-tv-dolby-audio/p/itm42bfcb2db2495?pid=TVSGHY2BCKSKB5QF&lid=LSTTVSGHY2BCKSKB5QFJ7HUWT&marketplace=FLIPKART&q=tv&store=ckf%2Fczl&srno=s_1_21&otracker=search&fm=organic&iid=6332b9ec-d625-4e05-aa06-09f8dd69ae4e.TVSGHY2BCKSKB5QF.SEARCH&ppt=None&ppn=None&ssid=ib3sso3vuo0000001677174442141&qH=c9a1fdac6e082dd8\n",
      "https://www.flipkart.com/mi-x-series-138-cm-55-inch-ultra-hd-4k-led-smart-android-tv-dolby-vision-30w-audio-2022-model/p/itmd4ff31740dc25?pid=TVSGHEQVHEBXABCQ&lid=LSTTVSGHEQVHEBXABCQXB4RD9&marketplace=FLIPKART&q=tv&store=ckf%2Fczl&srno=s_1_22&otracker=search&fm=organic&iid=6332b9ec-d625-4e05-aa06-09f8dd69ae4e.TVSGHEQVHEBXABCQ.SEARCH&ppt=None&ppn=None&ssid=ib3sso3vuo0000001677174442141&qH=c9a1fdac6e082dd8\n",
      "https://www.flipkart.com/oneplus-y1s-pro-138-cm-55-inch-ultra-hd-4k-led-smart-android-tv/p/itm5db9783099cbb?pid=TVSGJUFY5QMMWSU7&lid=LSTTVSGJUFY5QMMWSU7V52T1B&marketplace=FLIPKART&q=tv&store=ckf%2Fczl&srno=s_1_23&otracker=search&fm=organic&iid=6332b9ec-d625-4e05-aa06-09f8dd69ae4e.TVSGJUFY5QMMWSU7.SEARCH&ppt=None&ppn=None&ssid=ib3sso3vuo0000001677174442141&qH=c9a1fdac6e082dd8\n",
      "https://www.flipkart.com/thomson-9r-pro-108-cm-43-inch-ultra-hd-4k-led-smart-android-tv/p/itm7d6c8b8019530?pid=TVSG6TJEFQMUSQTE&lid=LSTTVSG6TJEFQMUSQTEMGLF9Z&marketplace=FLIPKART&q=tv&store=ckf%2Fczl&srno=s_1_24&otracker=search&fm=organic&iid=6332b9ec-d625-4e05-aa06-09f8dd69ae4e.TVSG6TJEFQMUSQTE.SEARCH&ppt=None&ppn=None&ssid=ib3sso3vuo0000001677174442141&qH=c9a1fdac6e082dd8\n"
     ]
    },
    {
     "ename": "AttributeError",
     "evalue": "'NoneType' object has no attribute 'a'",
     "output_type": "error",
     "traceback": [
      "\u001b[1;31m---------------------------------------------------------------------------\u001b[0m",
      "\u001b[1;31mAttributeError\u001b[0m                            Traceback (most recent call last)",
      "Cell \u001b[1;32mIn[13], line 2\u001b[0m\n\u001b[0;32m      1\u001b[0m \u001b[39mfor\u001b[39;00m i \u001b[39min\u001b[39;00m bigbox:\n\u001b[1;32m----> 2\u001b[0m     \u001b[39mprint\u001b[39m(\u001b[39m\"\u001b[39m\u001b[39mhttps://www.flipkart.com\u001b[39m\u001b[39m\"\u001b[39m \u001b[39m+\u001b[39m i\u001b[39m.\u001b[39;49mdiv\u001b[39m.\u001b[39;49mdiv\u001b[39m.\u001b[39;49mdiv\u001b[39m.\u001b[39;49ma[\u001b[39m'\u001b[39m\u001b[39mhref\u001b[39m\u001b[39m'\u001b[39m])\n",
      "\u001b[1;31mAttributeError\u001b[0m: 'NoneType' object has no attribute 'a'"
     ]
    }
   ],
   "source": [
    "#getting the productlink from the bigbox using for loop\n",
    "for i in bigbox:\n",
    "    print(\"https://www.flipkart.com\" + i.div.div.div.a['href'])\n",
    "    "
   ]
  },
  {
   "cell_type": "code",
   "execution_count": 14,
   "id": "121e467f-4b56-419d-a508-7b1056454983",
   "metadata": {},
   "outputs": [
    {
     "data": {
      "text/plain": [
       "'https://www.flipkart.com/oneplus-y1s-80-cm-32-inch-hd-ready-led-smart-android-tv-11-bezel-less-frame/p/itm0a39edd7df236?pid=TVSGAXEVXNG9YBUM&lid=LSTTVSGAXEVXNG9YBUMLGWYAS&marketplace=FLIPKART&q=tv&store=ckf%2Fczl&srno=s_1_2&otracker=search&fm=organic&iid=6332b9ec-d625-4e05-aa06-09f8dd69ae4e.TVSGAXEVXNG9YBUM.SEARCH&ppt=None&ppn=None&ssid=ib3sso3vuo0000001677174442141&qH=c9a1fdac6e082dd8'"
      ]
     },
     "execution_count": 14,
     "metadata": {},
     "output_type": "execute_result"
    }
   ],
   "source": [
    "productlink"
   ]
  },
  {
   "cell_type": "code",
   "execution_count": 15,
   "id": "a40d855a-a389-4f6f-abad-3e15ff7713e4",
   "metadata": {},
   "outputs": [],
   "source": [
    "#fetching the product details from the product link\n",
    "procuct_req = requests.get(productlink)"
   ]
  },
  {
   "cell_type": "code",
   "execution_count": 16,
   "id": "ae33159d-186e-4f6f-b4cb-e1565f0186bf",
   "metadata": {},
   "outputs": [],
   "source": [
    "#reading the product details\n",
    "product_html = bs(procuct_req.text,'html.parser')"
   ]
  },
  {
   "cell_type": "code",
   "execution_count": 17,
   "id": "32d59cba-4388-4a3f-9baa-498efed56148",
   "metadata": {},
   "outputs": [],
   "source": [
    "#fetching the product comments box from the product link\n",
    "coment_box = product_html.find_all(\"div\",{\"class\":\"_16PBlm\"})"
   ]
  },
  {
   "cell_type": "code",
   "execution_count": 18,
   "id": "424914bb-a86a-4f8b-862f-e6faf0ab1019",
   "metadata": {},
   "outputs": [
    {
     "data": {
      "text/plain": [
       "11"
      ]
     },
     "execution_count": 18,
     "metadata": {},
     "output_type": "execute_result"
    }
   ],
   "source": [
    "len(coment_box)"
   ]
  },
  {
   "cell_type": "code",
   "execution_count": 19,
   "id": "adfa3e5f-48c6-46f7-9f38-ac7b2675d949",
   "metadata": {},
   "outputs": [
    {
     "data": {
      "text/plain": [
       "'Prabhudev PS'"
      ]
     },
     "execution_count": 19,
     "metadata": {},
     "output_type": "execute_result"
    }
   ],
   "source": [
    "#fetching the name of the person who posted the review from the product comments box\n",
    "coment_box[0].div.div.find_all(\"p\",{\"class\":\"_2sc7ZR _2V5EHH\"})[0].text"
   ]
  },
  {
   "cell_type": "code",
   "execution_count": 20,
   "id": "b8539076-6191-47f1-b3fa-527967bf304a",
   "metadata": {},
   "outputs": [
    {
     "name": "stdout",
     "output_type": "stream",
     "text": [
      "Prabhudev PS\n",
      "Sritaj Patel\n",
      "Yogesh Mhatre\n",
      "Abhinav Suman\n",
      "Sankavi.N Akshaya\n",
      "Karthick\n",
      "Devawayan Hore\n",
      "Navdeep\n",
      "Ashhar  Khan\n",
      "Flipkart Customer\n"
     ]
    },
    {
     "ename": "AttributeError",
     "evalue": "'NoneType' object has no attribute 'div'",
     "output_type": "error",
     "traceback": [
      "\u001b[1;31m---------------------------------------------------------------------------\u001b[0m",
      "\u001b[1;31mAttributeError\u001b[0m                            Traceback (most recent call last)",
      "Cell \u001b[1;32mIn[20], line 2\u001b[0m\n\u001b[0;32m      1\u001b[0m \u001b[39mfor\u001b[39;00m i \u001b[39min\u001b[39;00m coment_box:\n\u001b[1;32m----> 2\u001b[0m     \u001b[39mprint\u001b[39m(i\u001b[39m.\u001b[39;49mdiv\u001b[39m.\u001b[39;49mdiv\u001b[39m.\u001b[39mfind_all(\u001b[39m\"\u001b[39m\u001b[39mp\u001b[39m\u001b[39m\"\u001b[39m,{\u001b[39m\"\u001b[39m\u001b[39mclass\u001b[39m\u001b[39m\"\u001b[39m:\u001b[39m\"\u001b[39m\u001b[39m_2sc7ZR _2V5EHH\u001b[39m\u001b[39m\"\u001b[39m})[\u001b[39m0\u001b[39m]\u001b[39m.\u001b[39mtext)\n",
      "\u001b[1;31mAttributeError\u001b[0m: 'NoneType' object has no attribute 'div'"
     ]
    }
   ],
   "source": [
    "#performing the same operation using for loop\n",
    "for i in coment_box:\n",
    "    print(i.div.div.find_all(\"p\",{\"class\":\"_2sc7ZR _2V5EHH\"})[0].text)"
   ]
  },
  {
   "cell_type": "code",
   "execution_count": 21,
   "id": "7d42338a-9d11-448a-866f-3d098090fee4",
   "metadata": {},
   "outputs": [
    {
     "name": "stdout",
     "output_type": "stream",
     "text": [
      "5\n",
      "5\n",
      "5\n",
      "5\n",
      "5\n",
      "5\n",
      "5\n",
      "5\n",
      "5\n",
      "5\n"
     ]
    },
    {
     "ename": "AttributeError",
     "evalue": "'NoneType' object has no attribute 'div'",
     "output_type": "error",
     "traceback": [
      "\u001b[1;31m---------------------------------------------------------------------------\u001b[0m",
      "\u001b[1;31mAttributeError\u001b[0m                            Traceback (most recent call last)",
      "Cell \u001b[1;32mIn[21], line 2\u001b[0m\n\u001b[0;32m      1\u001b[0m \u001b[39mfor\u001b[39;00m i \u001b[39min\u001b[39;00m coment_box:\n\u001b[1;32m----> 2\u001b[0m     \u001b[39mprint\u001b[39m(i\u001b[39m.\u001b[39;49mdiv\u001b[39m.\u001b[39;49mdiv\u001b[39m.\u001b[39mdiv\u001b[39m.\u001b[39mdiv\u001b[39m.\u001b[39mtext)\n",
      "\u001b[1;31mAttributeError\u001b[0m: 'NoneType' object has no attribute 'div'"
     ]
    }
   ],
   "source": [
    "#fetching the rating of the product from the product comments box\n",
    "for i in coment_box:\n",
    "    print(i.div.div.div.div.text)"
   ]
  },
  {
   "cell_type": "code",
   "execution_count": 22,
   "id": "d605e39b-1e78-410f-a81f-c398acd9a9ef",
   "metadata": {},
   "outputs": [
    {
     "data": {
      "text/plain": [
       "'Terrific'"
      ]
     },
     "execution_count": 22,
     "metadata": {},
     "output_type": "execute_result"
    }
   ],
   "source": [
    "#fetching the review of the product from the product comments box\n",
    "coment_box[0].div.div.div.p.text\n"
   ]
  },
  {
   "cell_type": "code",
   "execution_count": 23,
   "id": "97181efc-5bd5-4998-ab35-7512f82af7ae",
   "metadata": {},
   "outputs": [
    {
     "name": "stdout",
     "output_type": "stream",
     "text": [
      "Terrific\n",
      "Terrific purchase\n",
      "Terrific\n",
      "Perfect product!\n",
      "Perfect product!\n",
      "Mind-blowing purchase\n",
      "Best in the market!\n",
      "Terrific\n",
      "Great product\n",
      "Terrific purchase\n"
     ]
    },
    {
     "ename": "AttributeError",
     "evalue": "'NoneType' object has no attribute 'div'",
     "output_type": "error",
     "traceback": [
      "\u001b[1;31m---------------------------------------------------------------------------\u001b[0m",
      "\u001b[1;31mAttributeError\u001b[0m                            Traceback (most recent call last)",
      "Cell \u001b[1;32mIn[23], line 2\u001b[0m\n\u001b[0;32m      1\u001b[0m \u001b[39mfor\u001b[39;00m i \u001b[39min\u001b[39;00m coment_box:\n\u001b[1;32m----> 2\u001b[0m     \u001b[39mprint\u001b[39m(i\u001b[39m.\u001b[39;49mdiv\u001b[39m.\u001b[39;49mdiv\u001b[39m.\u001b[39mdiv\u001b[39m.\u001b[39mp\u001b[39m.\u001b[39mtext )\n",
      "\u001b[1;31mAttributeError\u001b[0m: 'NoneType' object has no attribute 'div'"
     ]
    }
   ],
   "source": [
    "#performing the same operation using for loop\n",
    "for i in coment_box:\n",
    "    print(i.div.div.div.p.text )"
   ]
  },
  {
   "cell_type": "code",
   "execution_count": 24,
   "id": "7e899af2-c04e-4c9e-952b-c319d77f84fc",
   "metadata": {},
   "outputs": [
    {
     "data": {
      "text/plain": [
       "\"Value for money, A great purchase with OnePlus, Picture quality is so good as expected, Sound is awesome, It's like a small home theatre at home. Recommended for purchase 👍READ MORE\""
      ]
     },
     "execution_count": 24,
     "metadata": {},
     "output_type": "execute_result"
    }
   ],
   "source": [
    "#fetching the detailed review from the product comments box\n",
    "coment_box[0].div.div.find_all(\"div\",{\"class\":\"\"})[0].text"
   ]
  },
  {
   "cell_type": "code",
   "execution_count": 25,
   "id": "737a2b0d-4508-4f1d-922e-51c6297f0718",
   "metadata": {},
   "outputs": [
    {
     "name": "stdout",
     "output_type": "stream",
     "text": [
      "Value for money, A great purchase with OnePlus, Picture quality is so good as expected, Sound is awesome, It's like a small home theatre at home. Recommended for purchase 👍READ MORE\n",
      "At this price point, the TV is good to have with easy connectivity and setup.Picture quality is good for the led screen(however you can compare another tv in the same segments).The sound is good although Dolby impressions I couldn’t get in the first use(perhaps need to check more).Remote is clean and minimalistic and easy to use.Connectivity is good, able to connect to wifi via router and hotspot and the connection stays and works perfectly fine. Able to use any streaming services without...READ MORE\n",
      "It is superior TV. Working on android pie .You can also use Oxygen play interface for a content centric view.It has good voice command Bluetooth base remote control.This TV incorporated with Gamma engine with MEMC , Super resolution , colour space mapping , dynamic contract . Connecting options with Wi Fi , Bluetooth , HDMI , ethernet are very quickly n fast response .Highly recommended for your future TV...😊😊READ MORE\n",
      "OnePlus always brings to us all those high end tech device s at such an amazing prices . They has turned out be a blessing for families like me with such products . I am very happy with the product 43\" TV . I have ordere it for my Mom , :- The UI and ease of use for old lady coming from non tech era >>>>>:- The sound quality is just superb :- Some improvement can be done for connectivity with other smart devices . :- Ease of installation So happy with flipkart also for delivery to small...READ MORE\n",
      "It's pretty good n with oosaammmm clarity .....  One word to describe - value for money 💰READ MORE\n",
      "Picture quality and design very good and latest Android 11 works good in it . Good speakers pretty much loud ..READ MORE\n",
      "A very nice Tv with many adjustments and a best sound quality and also nice used with Google assistants.. Highly recommended by me. ☺️READ MORE\n",
      "This review is after long-term usage of 6 months, the video quality on this TV is really good especially in this range- the color production, and sound quality is good too...you can really enjoy watching series on this TV. It is really light and there is virtually no bezel- the design is really good! The remote is really simple to use and lightweight, and the user interface is smooth and easy. One great thing about this TV is Oxygen play where you can find all the content in one place....and ...READ MORE\n",
      "Thank you Flipkart amazing product 1+ TV new model  Awesome product I m happy 1+ TV super quality one days used nice product this range everything is okREAD MORE\n",
      "Best Budget friendly smart tv one can buy, although the video quality is not at par with that of samsung/sony but the sound quality is seriously amazing 💯. Easy to install and use !!READ MORE\n"
     ]
    },
    {
     "ename": "AttributeError",
     "evalue": "'NoneType' object has no attribute 'div'",
     "output_type": "error",
     "traceback": [
      "\u001b[1;31m---------------------------------------------------------------------------\u001b[0m",
      "\u001b[1;31mAttributeError\u001b[0m                            Traceback (most recent call last)",
      "Cell \u001b[1;32mIn[25], line 2\u001b[0m\n\u001b[0;32m      1\u001b[0m \u001b[39mfor\u001b[39;00m i \u001b[39min\u001b[39;00m coment_box:\n\u001b[1;32m----> 2\u001b[0m     \u001b[39mprint\u001b[39m(i\u001b[39m.\u001b[39;49mdiv\u001b[39m.\u001b[39;49mdiv\u001b[39m.\u001b[39mfind_all(\u001b[39m\"\u001b[39m\u001b[39mdiv\u001b[39m\u001b[39m\"\u001b[39m,{\u001b[39m\"\u001b[39m\u001b[39mclass\u001b[39m\u001b[39m\"\u001b[39m:\u001b[39m\"\u001b[39m\u001b[39m\"\u001b[39m})[\u001b[39m0\u001b[39m]\u001b[39m.\u001b[39mtext)\n",
      "\u001b[1;31mAttributeError\u001b[0m: 'NoneType' object has no attribute 'div'"
     ]
    }
   ],
   "source": [
    "#performing the same operation using for loop\n",
    "for i in coment_box:\n",
    "    print(i.div.div.find_all(\"div\",{\"class\":\"\"})[0].text)"
   ]
  }
 ],
 "metadata": {
  "kernelspec": {
   "display_name": "Python 3",
   "language": "python",
   "name": "python3"
  },
  "language_info": {
   "codemirror_mode": {
    "name": "ipython",
    "version": 3
   },
   "file_extension": ".py",
   "mimetype": "text/x-python",
   "name": "python",
   "nbconvert_exporter": "python",
   "pygments_lexer": "ipython3",
   "version": "3.11.0"
  },
  "vscode": {
   "interpreter": {
    "hash": "c261aea317cc0286b3b3261fbba9abdec21eaa57589985bb7a274bf54d6cc0a7"
   }
  }
 },
 "nbformat": 4,
 "nbformat_minor": 5
}
